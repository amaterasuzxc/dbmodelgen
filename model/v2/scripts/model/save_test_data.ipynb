{
 "cells": [
  {
   "cell_type": "code",
   "execution_count": 18,
   "metadata": {},
   "outputs": [],
   "source": [
    "import spacy\n",
    "from spacy.tokens import DocBin, Doc\n",
    "import csv"
   ]
  },
  {
   "cell_type": "code",
   "execution_count": 20,
   "metadata": {},
   "outputs": [],
   "source": [
    "nlp = spacy.blank(\"ru\")\n",
    "\n",
    "doc_bin = DocBin(store_user_data=True).from_disk(\"../../model/data/test.spacy\")\n",
    "docs = doc_bin.get_docs(nlp.vocab)\n",
    "\n",
    "with open(\"../../data/test-data.csv\", \"w\", encoding=\"utf-8-sig\", newline='') as file:\n",
    "    wr = csv.writer(file)\n",
    "    wr.writerow([\"Text\"])\n",
    "    for doc in docs:\n",
    "        wr.writerow([doc.text])\n"
   ]
  }
 ],
 "metadata": {
  "kernelspec": {
   "display_name": "Python 3",
   "language": "python",
   "name": "python3"
  },
  "language_info": {
   "codemirror_mode": {
    "name": "ipython",
    "version": 3
   },
   "file_extension": ".py",
   "mimetype": "text/x-python",
   "name": "python",
   "nbconvert_exporter": "python",
   "pygments_lexer": "ipython3",
   "version": "3.11.8"
  }
 },
 "nbformat": 4,
 "nbformat_minor": 2
}
