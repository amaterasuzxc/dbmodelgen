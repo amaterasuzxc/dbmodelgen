{
 "cells": [
  {
   "cell_type": "code",
   "execution_count": 1,
   "metadata": {},
   "outputs": [],
   "source": [
    "from model.PipelineModel import PipelineModel"
   ]
  },
  {
   "cell_type": "code",
   "execution_count": 2,
   "metadata": {},
   "outputs": [],
   "source": [
    "with open(\"../../data/test/test1.txt\") as file:\n",
    "    test_text = file.read()"
   ]
  },
  {
   "cell_type": "code",
   "execution_count": 3,
   "metadata": {},
   "outputs": [
    {
     "name": "stderr",
     "output_type": "stream",
     "text": [
      "g:\\OneDrive\\SPbSTU\\Magister\\VKR\\project\\model\\v2\\.conda\\Lib\\site-packages\\tqdm\\auto.py:21: TqdmWarning: IProgress not found. Please update jupyter and ipywidgets. See https://ipywidgets.readthedocs.io/en/stable/user_install.html\n",
      "  from .autonotebook import tqdm as notebook_tqdm\n",
      "g:\\OneDrive\\SPbSTU\\Magister\\VKR\\project\\model\\v2\\.conda\\Lib\\site-packages\\transformers\\utils\\generic.py:441: UserWarning: torch.utils._pytree._register_pytree_node is deprecated. Please use torch.utils._pytree.register_pytree_node instead.\n",
      "  _torch_pytree._register_pytree_node(\n",
      "g:\\OneDrive\\SPbSTU\\Magister\\VKR\\project\\model\\v2\\.conda\\Lib\\site-packages\\transformers\\utils\\generic.py:309: UserWarning: torch.utils._pytree._register_pytree_node is deprecated. Please use torch.utils._pytree.register_pytree_node instead.\n",
      "  _torch_pytree._register_pytree_node(\n"
     ]
    }
   ],
   "source": [
    "pipeline = PipelineModel(config_path=\"model/config/pipeline_config.yml\")"
   ]
  },
  {
   "cell_type": "code",
   "execution_count": 4,
   "metadata": {},
   "outputs": [],
   "source": [
    "result = pipeline.apply(test_text)"
   ]
  },
  {
   "cell_type": "code",
   "execution_count": 5,
   "metadata": {},
   "outputs": [
    {
     "data": {
      "text/plain": [
       "'[{\"name\": \"заказы\", \"attributes\": [{\"name\": \"номер заказа\", \"type\": \"integer\"}, {\"name\": \"дата заказа\", \"type\": \"timestamp\"}, {\"name\": \"статус заказа\", \"type\": \"string\"}, {\"name\": \"сумма заказа\", \"type\": \"double\"}]}, {\"name\": \"товары\", \"attributes\": [{\"name\": \"сумма заказа\", \"type\": \"double\"}, {\"name\": \"имя и контактные данные клиента\", \"type\": \"string\"}, {\"name\": \"адрес доставки\", \"type\": \"string\"}, {\"name\": \"идентификатор товара\", \"type\": \"integer\"}, {\"name\": \"название товара\", \"type\": \"string\"}, {\"name\": \"описание товара\", \"type\": \"string\"}, {\"name\": \"стоимость товара\", \"type\": \"double\"}, {\"name\": \"количество товара на склад\", \"type\": \"integer\"}, {\"name\": \"поставщик товара\", \"type\": \"string\"}]}, {\"name\": \"клиенты\", \"attributes\": [{\"name\": \"название товара\", \"type\": \"string\"}, {\"name\": \"описание товара\", \"type\": \"string\"}, {\"name\": \"стоимость товара\", \"type\": \"double\"}, {\"name\": \"количество товара на склад\", \"type\": \"integer\"}, {\"name\": \"поставщик товара\", \"type\": \"string\"}, {\"name\": \"идентификатор клиента\", \"type\": \"integer\"}, {\"name\": \"имя клиента\", \"type\": \"string\"}, {\"name\": \"адрес клиента\", \"type\": \"string\"}, {\"name\": \"контактные данные клиента\", \"type\": \"string\"}]}, {\"name\": \"поставщики\", \"attributes\": [{\"name\": \"идентификатор поставщика\", \"type\": \"integer\"}, {\"name\": \"название поставщика\", \"type\": \"string\"}, {\"name\": \"адрес поставщика\", \"type\": \"string\"}, {\"name\": \"контактные данные поставщика\", \"type\": \"string\"}]}]'"
      ]
     },
     "execution_count": 5,
     "metadata": {},
     "output_type": "execute_result"
    }
   ],
   "source": [
    "# for ent in result.ents:\n",
    "#     print(ent.text, ent.label_, ent.start, ent.end, ent.lemma_)\n",
    "\n",
    "result"
   ]
  },
  {
   "cell_type": "code",
   "execution_count": 6,
   "metadata": {},
   "outputs": [],
   "source": [
    "# cnt = 0\n",
    "# for value, rel_dict in result._.rel.items():\n",
    "#     for e in list(filter(lambda _:_.label_ == \"LATTRIBUTE\", result.ents)):\n",
    "#         for b in list(filter(lambda _:_.label_ == \"LENTITY\", result.ents)):\n",
    "#             if e.start == value[0] and b.start == value[1]:\n",
    "#                 if rel_dict['ATTRIBUTE_OF'] >= 0.8:\n",
    "#                     cnt += 1\n",
    "#                     print(f\" entities: {e.text, b.text} --> predicted relation: {rel_dict}\")\n",
    "# print(cnt)"
   ]
  },
  {
   "cell_type": "code",
   "execution_count": 7,
   "metadata": {},
   "outputs": [],
   "source": [
    "# from scripts.data_processing.postprocessing.span_shapeshifter import ShapeShifter\n",
    "\n",
    "# shifter = ShapeShifter()\n",
    "\n",
    "# shifter.shapeshift(\"имя и контактные данные клиента\", True)"
   ]
  },
  {
   "cell_type": "code",
   "execution_count": 8,
   "metadata": {},
   "outputs": [],
   "source": [
    "# from pymorphy3 import MorphAnalyzer\n",
    "\n",
    "# morph = MorphAnalyzer()\n",
    "\n",
    "# gramm = morph.parse(\"данные\")[3]\n",
    "# new_gramm = gramm.inflect({'sing'})\n",
    "# print(gramm, new_gramm)"
   ]
  }
 ],
 "metadata": {
  "kernelspec": {
   "display_name": "Python 3",
   "language": "python",
   "name": "python3"
  },
  "language_info": {
   "codemirror_mode": {
    "name": "ipython",
    "version": 3
   },
   "file_extension": ".py",
   "mimetype": "text/x-python",
   "name": "python",
   "nbconvert_exporter": "python",
   "pygments_lexer": "ipython3",
   "version": "3.11.8"
  }
 },
 "nbformat": 4,
 "nbformat_minor": 2
}
