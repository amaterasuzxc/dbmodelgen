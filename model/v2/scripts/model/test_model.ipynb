{
 "cells": [
  {
   "cell_type": "code",
   "execution_count": 1,
   "metadata": {},
   "outputs": [],
   "source": [
    "from model.PipelineModel import PipelineModel"
   ]
  },
  {
   "cell_type": "code",
   "execution_count": 2,
   "metadata": {},
   "outputs": [],
   "source": [
    "with open(\"../../data/test/test1.txt\") as file:\n",
    "    test_text = file.read()"
   ]
  },
  {
   "cell_type": "code",
   "execution_count": 3,
   "metadata": {},
   "outputs": [
    {
     "name": "stderr",
     "output_type": "stream",
     "text": [
      "g:\\OneDrive\\SPbSTU\\Magister\\VKR\\project\\model\\v2\\.conda\\Lib\\site-packages\\tqdm\\auto.py:21: TqdmWarning: IProgress not found. Please update jupyter and ipywidgets. See https://ipywidgets.readthedocs.io/en/stable/user_install.html\n",
      "  from .autonotebook import tqdm as notebook_tqdm\n",
      "g:\\OneDrive\\SPbSTU\\Magister\\VKR\\project\\model\\v2\\.conda\\Lib\\site-packages\\transformers\\utils\\generic.py:441: UserWarning: torch.utils._pytree._register_pytree_node is deprecated. Please use torch.utils._pytree.register_pytree_node instead.\n",
      "  _torch_pytree._register_pytree_node(\n",
      "g:\\OneDrive\\SPbSTU\\Magister\\VKR\\project\\model\\v2\\.conda\\Lib\\site-packages\\transformers\\utils\\generic.py:309: UserWarning: torch.utils._pytree._register_pytree_node is deprecated. Please use torch.utils._pytree.register_pytree_node instead.\n",
      "  _torch_pytree._register_pytree_node(\n"
     ]
    }
   ],
   "source": [
    "pipeline = PipelineModel(config_path=\"model/config/pipeline_config.yml\")"
   ]
  },
  {
   "cell_type": "code",
   "execution_count": 4,
   "metadata": {},
   "outputs": [],
   "source": [
    "result = pipeline.apply(test_text)"
   ]
  },
  {
   "cell_type": "code",
   "execution_count": 5,
   "metadata": {},
   "outputs": [
    {
     "data": {
      "text/plain": [
       "'[{\"_name\": \"заказах\", \"_attributes\": [{\"_name\": \"номер заказа\", \"_type\": \"integer\"}, {\"_name\": \"дата заказа\", \"_type\": \"timestamp\"}, {\"_name\": \"статус заказа\", \"_type\": \"string\"}, {\"_name\": \"сумма заказа\", \"_type\": \"double\"}]}, {\"_name\": \"товарах\", \"_attributes\": [{\"_name\": \"сумма заказа\", \"_type\": \"double\"}, {\"_name\": \"имя и контактные данные клиента\", \"_type\": \"string\"}, {\"_name\": \"адрес доставки\", \"_type\": \"string\"}, {\"_name\": \"идентификатор товара\", \"_type\": \"integer\"}, {\"_name\": \"название товара\", \"_type\": \"string\"}, {\"_name\": \"описание товара\", \"_type\": \"string\"}, {\"_name\": \"стоимость товара\", \"_type\": \"double\"}, {\"_name\": \"количество товара на складе\", \"_type\": \"integer\"}, {\"_name\": \"поставщик товара\", \"_type\": \"timestamp\"}]}, {\"_name\": \"клиентах\", \"_attributes\": [{\"_name\": \"название товара\", \"_type\": \"string\"}, {\"_name\": \"описание товара\", \"_type\": \"string\"}, {\"_name\": \"стоимость товара\", \"_type\": \"double\"}, {\"_name\": \"количество товара на складе\", \"_type\": \"integer\"}, {\"_name\": \"поставщик товара\", \"_type\": \"timestamp\"}, {\"_name\": \"идентификатор клиента\", \"_type\": \"integer\"}, {\"_name\": \"имя клиента\", \"_type\": \"string\"}, {\"_name\": \"адрес клиента\", \"_type\": \"string\"}, {\"_name\": \"контактные данные клиента\", \"_type\": \"string\"}]}, {\"_name\": \"поставщиках\", \"_attributes\": [{\"_name\": \"идентификатор поставщика\", \"_type\": \"integer\"}, {\"_name\": \"название поставщика\", \"_type\": \"string\"}, {\"_name\": \"адрес поставщика\", \"_type\": \"string\"}, {\"_name\": \"контактные данные поставщика\", \"_type\": \"string\"}]}]'"
      ]
     },
     "execution_count": 5,
     "metadata": {},
     "output_type": "execute_result"
    }
   ],
   "source": [
    "# for ent in result.ents:\n",
    "#     print(ent.text, ent.label_, ent.start, ent.end, ent.lemma_)\n",
    "\n",
    "result"
   ]
  },
  {
   "cell_type": "code",
   "execution_count": 6,
   "metadata": {},
   "outputs": [],
   "source": [
    "# cnt = 0\n",
    "# for value, rel_dict in result._.rel.items():\n",
    "#     for e in list(filter(lambda _:_.label_ == \"LATTRIBUTE\", result.ents)):\n",
    "#         for b in list(filter(lambda _:_.label_ == \"LENTITY\", result.ents)):\n",
    "#             if e.start == value[0] and b.start == value[1]:\n",
    "#                 if rel_dict['ATTRIBUTE_OF'] >= 0.8:\n",
    "#                     cnt += 1\n",
    "#                     print(f\" entities: {e.text, b.text} --> predicted relation: {rel_dict}\")\n",
    "# print(cnt)"
   ]
  }
 ],
 "metadata": {
  "kernelspec": {
   "display_name": "Python 3",
   "language": "python",
   "name": "python3"
  },
  "language_info": {
   "codemirror_mode": {
    "name": "ipython",
    "version": 3
   },
   "file_extension": ".py",
   "mimetype": "text/x-python",
   "name": "python",
   "nbconvert_exporter": "python",
   "pygments_lexer": "ipython3",
   "version": "3.11.8"
  }
 },
 "nbformat": 4,
 "nbformat_minor": 2
}
