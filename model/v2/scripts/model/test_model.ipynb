{
 "cells": [
  {
   "cell_type": "code",
   "execution_count": 1,
   "metadata": {},
   "outputs": [],
   "source": [
    "import spacy\n",
    "from model.components.component_registry import *"
   ]
  },
  {
   "cell_type": "code",
   "execution_count": 2,
   "metadata": {},
   "outputs": [
    {
     "name": "stderr",
     "output_type": "stream",
     "text": [
      "g:\\OneDrive\\SPbSTU\\Magister\\VKR\\project\\model\\v2\\.conda\\Lib\\site-packages\\tqdm\\auto.py:21: TqdmWarning: IProgress not found. Please update jupyter and ipywidgets. See https://ipywidgets.readthedocs.io/en/stable/user_install.html\n",
      "  from .autonotebook import tqdm as notebook_tqdm\n",
      "g:\\OneDrive\\SPbSTU\\Magister\\VKR\\project\\model\\v2\\.conda\\Lib\\site-packages\\transformers\\utils\\generic.py:441: UserWarning: torch.utils._pytree._register_pytree_node is deprecated. Please use torch.utils._pytree.register_pytree_node instead.\n",
      "  _torch_pytree._register_pytree_node(\n",
      "g:\\OneDrive\\SPbSTU\\Magister\\VKR\\project\\model\\v2\\.conda\\Lib\\site-packages\\transformers\\utils\\generic.py:309: UserWarning: torch.utils._pytree._register_pytree_node is deprecated. Please use torch.utils._pytree.register_pytree_node instead.\n",
      "  _torch_pytree._register_pytree_node(\n"
     ]
    }
   ],
   "source": [
    "nlp = spacy.load('../../model/training/ecat/model-best')\n",
    "\n",
    "with open('../../data/test/test1.txt', 'r') as test_file:\n",
    "    example = test_file.read()"
   ]
  },
  {
   "cell_type": "code",
   "execution_count": 26,
   "metadata": {},
   "outputs": [
    {
     "name": "stdout",
     "output_type": "stream",
     "text": [
      "ents: (заказах, товарах, клиентах, поставщиках, поставщиками, заказах, номер заказа, дата заказа, статус заказа, сумма заказа, имя, контактные данные клиента, адрес доставки, товарах, уникальный идентификатор товара, название товара, описание товара, стоимость товара, количество товара на складе, поставщик товара, клиентах, уникальный идентификатор клиента, имя клиента, адрес клиента, контактные данные клиента, поставщиках, уникальный идентификатор поставщика, название поставщика, адрес поставщика, контактные данные поставщика, поставщиками, заказах, поставщиков, заказах, поставщиков, статуса заказа, возможность просмотра истории изменений статуса заказа)\n"
     ]
    },
    {
     "ename": "AttributeError",
     "evalue": "'spacy.tokens.doc.Doc' object has no attribute 'rel'",
     "output_type": "error",
     "traceback": [
      "\u001b[1;31m---------------------------------------------------------------------------\u001b[0m",
      "\u001b[1;31mAttributeError\u001b[0m                            Traceback (most recent call last)",
      "Cell \u001b[1;32mIn[26], line 3\u001b[0m\n\u001b[0;32m      1\u001b[0m doc \u001b[38;5;241m=\u001b[39m nlp(example)\n\u001b[0;32m      2\u001b[0m \u001b[38;5;28mprint\u001b[39m(\u001b[38;5;124mf\u001b[39m\u001b[38;5;124m'\u001b[39m\u001b[38;5;124ments: \u001b[39m\u001b[38;5;132;01m{\u001b[39;00mdoc\u001b[38;5;241m.\u001b[39ments\u001b[38;5;132;01m}\u001b[39;00m\u001b[38;5;124m'\u001b[39m)\n\u001b[1;32m----> 3\u001b[0m \u001b[38;5;28mprint\u001b[39m(\u001b[43mdoc\u001b[49m\u001b[38;5;241;43m.\u001b[39;49m\u001b[43mrel\u001b[49m)\n\u001b[0;32m      4\u001b[0m \u001b[38;5;66;03m# for ent in doc.ents:\u001b[39;00m\n\u001b[0;32m      5\u001b[0m \u001b[38;5;66;03m#     print(f'txt: {ent.text}, label: {ent.label_}')\u001b[39;00m\n\u001b[0;32m      6\u001b[0m \u001b[38;5;66;03m# for rel in doc['tokens']:\u001b[39;00m\n\u001b[0;32m      7\u001b[0m \u001b[38;5;66;03m#     print(f'rel: {rel}')\u001b[39;00m\n\u001b[0;32m      8\u001b[0m \n\u001b[0;32m      9\u001b[0m \u001b[38;5;66;03m# print(f'rels: {doc._.rel}')\u001b[39;00m\n",
      "\u001b[1;31mAttributeError\u001b[0m: 'spacy.tokens.doc.Doc' object has no attribute 'rel'"
     ]
    }
   ],
   "source": [
    "doc = nlp(example)\n",
    "# print(f'ents: {doc.ents}')\n",
    "# print(doc._.rel.items())\n",
    "print(doc._.ecat.items())\n",
    "# for ent in doc.ents:\n",
    "#     print(f'txt: {ent.text}, label: {ent.label_}')\n",
    "# for rel in doc['tokens']:\n",
    "#     print(f'rel: {rel}')\n",
    "\n",
    "# print(f'rels: {doc._.rel}')"
   ]
  }
 ],
 "metadata": {
  "kernelspec": {
   "display_name": "Python 3",
   "language": "python",
   "name": "python3"
  },
  "language_info": {
   "codemirror_mode": {
    "name": "ipython",
    "version": 3
   },
   "file_extension": ".py",
   "mimetype": "text/x-python",
   "name": "python",
   "nbconvert_exporter": "python",
   "pygments_lexer": "ipython3",
   "version": "3.11.8"
  }
 },
 "nbformat": 4,
 "nbformat_minor": 2
}
