{
 "cells": [
  {
   "cell_type": "code",
   "execution_count": 1,
   "metadata": {},
   "outputs": [],
   "source": [
    "from model.PipelineModel import PipelineModel"
   ]
  },
  {
   "cell_type": "code",
   "execution_count": 2,
   "metadata": {},
   "outputs": [],
   "source": [
    "with open(\"../../data/test/test1.txt\") as file:\n",
    "    test_text = file.read()"
   ]
  },
  {
   "cell_type": "code",
   "execution_count": 3,
   "metadata": {},
   "outputs": [
    {
     "name": "stderr",
     "output_type": "stream",
     "text": [
      "g:\\OneDrive\\SPbSTU\\Magister\\VKR\\project\\model\\v2\\.conda\\Lib\\site-packages\\tqdm\\auto.py:21: TqdmWarning: IProgress not found. Please update jupyter and ipywidgets. See https://ipywidgets.readthedocs.io/en/stable/user_install.html\n",
      "  from .autonotebook import tqdm as notebook_tqdm\n",
      "g:\\OneDrive\\SPbSTU\\Magister\\VKR\\project\\model\\v2\\.conda\\Lib\\site-packages\\transformers\\utils\\generic.py:441: UserWarning: torch.utils._pytree._register_pytree_node is deprecated. Please use torch.utils._pytree.register_pytree_node instead.\n",
      "  _torch_pytree._register_pytree_node(\n",
      "g:\\OneDrive\\SPbSTU\\Magister\\VKR\\project\\model\\v2\\.conda\\Lib\\site-packages\\transformers\\utils\\generic.py:309: UserWarning: torch.utils._pytree._register_pytree_node is deprecated. Please use torch.utils._pytree.register_pytree_node instead.\n",
      "  _torch_pytree._register_pytree_node(\n"
     ]
    }
   ],
   "source": [
    "pipeline = PipelineModel(config_path=\"model/config/pipeline_config.yml\")"
   ]
  },
  {
   "cell_type": "code",
   "execution_count": 4,
   "metadata": {},
   "outputs": [],
   "source": [
    "result = pipeline.apply(test_text)"
   ]
  },
  {
   "cell_type": "code",
   "execution_count": 5,
   "metadata": {},
   "outputs": [
    {
     "name": "stdout",
     "output_type": "stream",
     "text": [
      "заказах LENTITY 38 39 заказ\n",
      "товарах LENTITY 40 41 товар\n",
      "клиентах LENTITY 42 43 клиент\n",
      "поставщиках LENTITY 44 45 поставщик\n",
      "заказах LENTITY 71 72 заказ\n",
      "номер заказа LATTRIBUTE 73 75 номер заказ\n",
      "дата заказа LATTRIBUTE 76 78 дата заказ\n",
      "статус заказа LATTRIBUTE 79 81 статус заказ\n",
      "сумма заказа LATTRIBUTE 89 91 сумма заказ\n",
      "имя и контактные данные клиента LATTRIBUTE 92 97 имя и контактный данные клиент\n",
      "адрес доставки LATTRIBUTE 98 100 адрес доставка\n",
      "товарах LENTITY 104 105 товар\n",
      "идентификатор товара LATTRIBUTE 107 109 идентификатор товар\n",
      "название товара LATTRIBUTE 110 112 название товар\n",
      "описание товара LATTRIBUTE 113 115 описание товар\n",
      "стоимость товара LATTRIBUTE 116 118 стоимость товар\n",
      "количество товара на складе LATTRIBUTE 119 123 количество товар на склад\n",
      "поставщик товара LATTRIBUTE 124 126 поставщик товар\n",
      "клиентах LENTITY 130 131 клиент\n",
      "идентификатор клиента LATTRIBUTE 133 135 идентификатор клиент\n",
      "имя клиента LATTRIBUTE 136 138 имя клиент\n",
      "адрес клиента LATTRIBUTE 139 141 адрес клиент\n",
      "контактные данные клиента LATTRIBUTE 142 145 контактный данные клиент\n",
      "поставщиках LENTITY 155 156 поставщик\n",
      "идентификатор поставщика LATTRIBUTE 158 160 идентификатор поставщик\n",
      "название поставщика LATTRIBUTE 161 163 название поставщик\n",
      "адрес поставщика LATTRIBUTE 164 166 адрес поставщик\n",
      "контактные данные поставщика LATTRIBUTE 167 170 контактный данные поставщик\n",
      "поставщиками LENTITY 174 175 поставщик\n",
      "заказах от поставщиков LENTITY 179 182 заказ от поставщик\n",
      "заказах от поставщиков LENTITY 186 189 заказ от поставщик\n",
      "заказа LENTITY 194 195 заказ\n"
     ]
    }
   ],
   "source": [
    "for ent in result.ents:\n",
    "    print(ent.text, ent.label_, ent.start, ent.end, ent.lemma_)"
   ]
  },
  {
   "cell_type": "code",
   "execution_count": 6,
   "metadata": {},
   "outputs": [
    {
     "name": "stdout",
     "output_type": "stream",
     "text": [
      " entities: ('заказах', 'номер заказа') --> predicted relation: {'ATTRIBUTE_OF': 0.9955764, 'DESCRIBED_BY': 2.900583e-05}\n",
      " entities: ('заказах', 'дата заказа') --> predicted relation: {'ATTRIBUTE_OF': 0.9974591, 'DESCRIBED_BY': 4.054567e-05}\n",
      " entities: ('заказах', 'статус заказа') --> predicted relation: {'ATTRIBUTE_OF': 0.9986045, 'DESCRIBED_BY': 3.783513e-05}\n",
      " entities: ('заказах', 'сумма заказа') --> predicted relation: {'ATTRIBUTE_OF': 0.9962339, 'DESCRIBED_BY': 3.2036878e-05}\n",
      " entities: ('номер заказа', 'заказах') --> predicted relation: {'ATTRIBUTE_OF': 0.996238, 'DESCRIBED_BY': 2.731412e-05}\n",
      " entities: ('дата заказа', 'заказах') --> predicted relation: {'ATTRIBUTE_OF': 0.9979486, 'DESCRIBED_BY': 3.44993e-05}\n",
      " entities: ('статус заказа', 'заказах') --> predicted relation: {'ATTRIBUTE_OF': 0.9988826, 'DESCRIBED_BY': 3.435445e-05}\n",
      " entities: ('сумма заказа', 'заказах') --> predicted relation: {'ATTRIBUTE_OF': 0.99727076, 'DESCRIBED_BY': 3.754521e-05}\n",
      " entities: ('сумма заказа', 'товарах') --> predicted relation: {'ATTRIBUTE_OF': 0.99819523, 'DESCRIBED_BY': 9.3155264e-05}\n",
      " entities: ('имя и контактные данные клиента', 'товарах') --> predicted relation: {'ATTRIBUTE_OF': 0.9990722, 'DESCRIBED_BY': 0.00012171063}\n",
      " entities: ('адрес доставки', 'товарах') --> predicted relation: {'ATTRIBUTE_OF': 0.9767352, 'DESCRIBED_BY': 9.600478e-05}\n",
      " entities: ('товарах', 'сумма заказа') --> predicted relation: {'ATTRIBUTE_OF': 0.99784803, 'DESCRIBED_BY': 8.400133e-05}\n",
      " entities: ('товарах', 'имя и контактные данные клиента') --> predicted relation: {'ATTRIBUTE_OF': 0.9989681, 'DESCRIBED_BY': 0.00011659781}\n",
      " entities: ('товарах', 'адрес доставки') --> predicted relation: {'ATTRIBUTE_OF': 0.9743706, 'DESCRIBED_BY': 0.00010493519}\n",
      " entities: ('товарах', 'идентификатор товара') --> predicted relation: {'ATTRIBUTE_OF': 0.99918336, 'DESCRIBED_BY': 4.3984946e-05}\n",
      " entities: ('товарах', 'название товара') --> predicted relation: {'ATTRIBUTE_OF': 0.996766, 'DESCRIBED_BY': 9.692833e-05}\n",
      " entities: ('товарах', 'описание товара') --> predicted relation: {'ATTRIBUTE_OF': 0.9958359, 'DESCRIBED_BY': 9.021352e-05}\n",
      " entities: ('товарах', 'стоимость товара') --> predicted relation: {'ATTRIBUTE_OF': 0.99335563, 'DESCRIBED_BY': 9.816098e-05}\n",
      " entities: ('товарах', 'количество товара на складе') --> predicted relation: {'ATTRIBUTE_OF': 0.9733191, 'DESCRIBED_BY': 9.551842e-05}\n",
      " entities: ('товарах', 'поставщик товара') --> predicted relation: {'ATTRIBUTE_OF': 0.9314224, 'DESCRIBED_BY': 7.35832e-05}\n",
      " entities: ('идентификатор товара', 'товарах') --> predicted relation: {'ATTRIBUTE_OF': 0.9992348, 'DESCRIBED_BY': 5.2519634e-05}\n",
      " entities: ('название товара', 'товарах') --> predicted relation: {'ATTRIBUTE_OF': 0.9967727, 'DESCRIBED_BY': 0.00010474914}\n",
      " entities: ('название товара', 'клиентах') --> predicted relation: {'ATTRIBUTE_OF': 0.9996507, 'DESCRIBED_BY': 8.925873e-05}\n",
      " entities: ('описание товара', 'товарах') --> predicted relation: {'ATTRIBUTE_OF': 0.9960975, 'DESCRIBED_BY': 0.00010657989}\n",
      " entities: ('описание товара', 'клиентах') --> predicted relation: {'ATTRIBUTE_OF': 0.99957746, 'DESCRIBED_BY': 9.0818765e-05}\n",
      " entities: ('стоимость товара', 'товарах') --> predicted relation: {'ATTRIBUTE_OF': 0.99334335, 'DESCRIBED_BY': 0.000117771895}\n",
      " entities: ('стоимость товара', 'клиентах') --> predicted relation: {'ATTRIBUTE_OF': 0.9992774, 'DESCRIBED_BY': 0.000100355835}\n",
      " entities: ('количество товара на складе', 'товарах') --> predicted relation: {'ATTRIBUTE_OF': 0.9740427, 'DESCRIBED_BY': 0.000100971134}\n",
      " entities: ('количество товара на складе', 'клиентах') --> predicted relation: {'ATTRIBUTE_OF': 0.99713254, 'DESCRIBED_BY': 8.603937e-05}\n",
      " entities: ('поставщик товара', 'товарах') --> predicted relation: {'ATTRIBUTE_OF': 0.934119, 'DESCRIBED_BY': 7.741259e-05}\n",
      " entities: ('поставщик товара', 'клиентах') --> predicted relation: {'ATTRIBUTE_OF': 0.992447, 'DESCRIBED_BY': 6.596439e-05}\n",
      " entities: ('клиентах', 'название товара') --> predicted relation: {'ATTRIBUTE_OF': 0.9996445, 'DESCRIBED_BY': 8.325784e-05}\n",
      " entities: ('клиентах', 'описание товара') --> predicted relation: {'ATTRIBUTE_OF': 0.999542, 'DESCRIBED_BY': 7.748998e-05}\n",
      " entities: ('клиентах', 'стоимость товара') --> predicted relation: {'ATTRIBUTE_OF': 0.9992675, 'DESCRIBED_BY': 8.431664e-05}\n",
      " entities: ('клиентах', 'количество товара на складе') --> predicted relation: {'ATTRIBUTE_OF': 0.9970047, 'DESCRIBED_BY': 8.204676e-05}\n",
      " entities: ('клиентах', 'поставщик товара') --> predicted relation: {'ATTRIBUTE_OF': 0.99199545, 'DESCRIBED_BY': 6.320502e-05}\n",
      " entities: ('клиентах', 'идентификатор клиента') --> predicted relation: {'ATTRIBUTE_OF': 0.99519145, 'DESCRIBED_BY': 1.6379017e-05}\n",
      " entities: ('клиентах', 'имя клиента') --> predicted relation: {'ATTRIBUTE_OF': 0.97671914, 'DESCRIBED_BY': 2.6407684e-05}\n",
      " entities: ('клиентах', 'адрес клиента') --> predicted relation: {'ATTRIBUTE_OF': 0.97941166, 'DESCRIBED_BY': 2.7660282e-05}\n",
      " entities: ('клиентах', 'контактные данные клиента') --> predicted relation: {'ATTRIBUTE_OF': 0.9769275, 'DESCRIBED_BY': 2.5929843e-05}\n",
      " entities: ('идентификатор клиента', 'клиентах') --> predicted relation: {'ATTRIBUTE_OF': 0.99534976, 'DESCRIBED_BY': 1.8551642e-05}\n",
      " entities: ('имя клиента', 'клиентах') --> predicted relation: {'ATTRIBUTE_OF': 0.9751404, 'DESCRIBED_BY': 3.5759087e-05}\n",
      " entities: ('адрес клиента', 'клиентах') --> predicted relation: {'ATTRIBUTE_OF': 0.9787531, 'DESCRIBED_BY': 3.695381e-05}\n",
      " entities: ('контактные данные клиента', 'клиентах') --> predicted relation: {'ATTRIBUTE_OF': 0.9779012, 'DESCRIBED_BY': 3.322547e-05}\n",
      " entities: ('поставщиках', 'идентификатор поставщика') --> predicted relation: {'ATTRIBUTE_OF': 0.9871409, 'DESCRIBED_BY': 1.2422236e-05}\n",
      " entities: ('поставщиках', 'название поставщика') --> predicted relation: {'ATTRIBUTE_OF': 0.96046454, 'DESCRIBED_BY': 2.5504805e-05}\n",
      " entities: ('поставщиках', 'адрес поставщика') --> predicted relation: {'ATTRIBUTE_OF': 0.9593602, 'DESCRIBED_BY': 2.870895e-05}\n",
      " entities: ('поставщиках', 'контактные данные поставщика') --> predicted relation: {'ATTRIBUTE_OF': 0.96068287, 'DESCRIBED_BY': 2.7015893e-05}\n",
      " entities: ('поставщиках', 'поставщиками') --> predicted relation: {'ATTRIBUTE_OF': 1.0, 'DESCRIBED_BY': 1.3364622e-05}\n",
      " entities: ('идентификатор поставщика', 'поставщиках') --> predicted relation: {'ATTRIBUTE_OF': 0.98888624, 'DESCRIBED_BY': 1.2214835e-05}\n",
      " entities: ('идентификатор поставщика', 'поставщиками') --> predicted relation: {'ATTRIBUTE_OF': 0.9344918, 'DESCRIBED_BY': 1.0808094e-05}\n",
      " entities: ('название поставщика', 'поставщиках') --> predicted relation: {'ATTRIBUTE_OF': 0.9647909, 'DESCRIBED_BY': 2.5457466e-05}\n",
      " entities: ('название поставщика', 'поставщиками') --> predicted relation: {'ATTRIBUTE_OF': 0.8145795, 'DESCRIBED_BY': 2.2525674e-05}\n",
      " entities: ('адрес поставщика', 'поставщиках') --> predicted relation: {'ATTRIBUTE_OF': 0.9627586, 'DESCRIBED_BY': 2.8529745e-05}\n",
      " entities: ('адрес поставщика', 'поставщиками') --> predicted relation: {'ATTRIBUTE_OF': 0.80562353, 'DESCRIBED_BY': 2.5244119e-05}\n",
      " entities: ('контактные данные поставщика', 'поставщиках') --> predicted relation: {'ATTRIBUTE_OF': 0.9640444, 'DESCRIBED_BY': 2.639069e-05}\n",
      " entities: ('контактные данные поставщика', 'поставщиками') --> predicted relation: {'ATTRIBUTE_OF': 0.8112712, 'DESCRIBED_BY': 2.3351424e-05}\n",
      " entities: ('поставщиками', 'поставщиках') --> predicted relation: {'ATTRIBUTE_OF': 1.0, 'DESCRIBED_BY': 1.4256691e-05}\n",
      " entities: ('поставщиками', 'идентификатор поставщика') --> predicted relation: {'ATTRIBUTE_OF': 0.9342909, 'DESCRIBED_BY': 1.1725297e-05}\n",
      " entities: ('поставщиками', 'название поставщика') --> predicted relation: {'ATTRIBUTE_OF': 0.8181712, 'DESCRIBED_BY': 2.4073874e-05}\n",
      " entities: ('поставщиками', 'адрес поставщика') --> predicted relation: {'ATTRIBUTE_OF': 0.8138624, 'DESCRIBED_BY': 2.709828e-05}\n",
      " entities: ('поставщиками', 'контактные данные поставщика') --> predicted relation: {'ATTRIBUTE_OF': 0.8190273, 'DESCRIBED_BY': 2.5500185e-05}\n",
      " entities: ('поставщиками', 'заказах от поставщиков') --> predicted relation: {'ATTRIBUTE_OF': 0.98156595, 'DESCRIBED_BY': 1.780042e-05}\n",
      " entities: ('поставщиками', 'заказах от поставщиков') --> predicted relation: {'ATTRIBUTE_OF': 0.8660832, 'DESCRIBED_BY': 1.7934672e-05}\n",
      " entities: ('поставщиками', 'заказа') --> predicted relation: {'ATTRIBUTE_OF': 1.0, 'DESCRIBED_BY': 1.2182006e-05}\n",
      " entities: ('заказах от поставщиков', 'поставщиками') --> predicted relation: {'ATTRIBUTE_OF': 0.9797422, 'DESCRIBED_BY': 1.4102147e-05}\n",
      " entities: ('заказах от поставщиков', 'поставщиками') --> predicted relation: {'ATTRIBUTE_OF': 0.85989255, 'DESCRIBED_BY': 1.4484915e-05}\n",
      " entities: ('заказа', 'поставщиками') --> predicted relation: {'ATTRIBUTE_OF': 1.0, 'DESCRIBED_BY': 1.717137e-05}\n"
     ]
    }
   ],
   "source": [
    "for value, rel_dict in result._.rel.items():\n",
    "    for e in result.ents:\n",
    "        for b in result.ents:\n",
    "            if e.start == value[0] and b.start == value[1]:\n",
    "                if rel_dict['ATTRIBUTE_OF'] >=0.8:\n",
    "                    print(f\" entities: {e.text, b.text} --> predicted relation: {rel_dict}\")"
   ]
  }
 ],
 "metadata": {
  "kernelspec": {
   "display_name": "Python 3",
   "language": "python",
   "name": "python3"
  },
  "language_info": {
   "codemirror_mode": {
    "name": "ipython",
    "version": 3
   },
   "file_extension": ".py",
   "mimetype": "text/x-python",
   "name": "python",
   "nbconvert_exporter": "python",
   "pygments_lexer": "ipython3",
   "version": "3.11.8"
  }
 },
 "nbformat": 4,
 "nbformat_minor": 2
}
